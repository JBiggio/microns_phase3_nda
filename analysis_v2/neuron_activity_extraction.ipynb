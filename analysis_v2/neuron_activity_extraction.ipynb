{
 "cells": [
  {
   "attachments": {},
   "cell_type": "markdown",
   "id": "34c758eb",
   "metadata": {},
   "source": [
    "# Notebook content overview"
   ]
  },
  {
   "attachments": {},
   "cell_type": "markdown",
   "id": "39e488b2",
   "metadata": {},
   "source": [
    "This notebook contains useful ifnormation to navigate the database of functional data hosetd on DataJoint. In particular it offers useful information to idenfiy relevant stimuli and actbvity inormation for a cell. In addition, it presents code that allows to extract the data related to the activity of the functionally matched neurons that is then useful to both carry out an analysis of correlation of activity between connected cells and to ideally extract the recpetive field of each functionally matched neuron.\n",
    "\n",
    "### Definition of columns and imaging terms\n",
    "\n",
    "This sections contains a breif overview and definition of what some of teh columns in the functional dataset stand for and their meaning in the world of medical imaging\n",
    "\n",
    "### Stimuli\n",
    "\n",
    "This section contains part of teh turtorial (with some additional clarifications I have hadded) provided by the MICrONS team to understand what each stimuli shown to the mouse is and how to eaxtrct the relevant stimuli picture and its corresponding activity for any of the functionally matched neuron.\n",
    "\n",
    "### Spike Traces\n",
    "\n",
    "This section contains part of the tutorial by teh MICrONS team to extract the spike trace and fluorescent trace of a cell and match it with the corresponding stimulus shown\n",
    "\n",
    "### Selecting relevant stimuli for our analysis\n",
    "\n",
    "**Identifying and extacting oracle stimuli**:\n",
    "\n",
    "This section focuses on extracting the relevant activity data for stimuli of teh Oracle type. These are stimuli that are exactly identical across repeats and that have been erepeated a series of times. It should thus be usfeful to compare the activity across different neurons. I define a function to extract the indices in the shown mobvie stimuli at which these oracle stimuli occurr and then I also do a manual check to see if these stimuli are indeed the same.\n",
    "\n",
    "**Extracting and saving relevant spike traces for Oracle stimuli and reliability threshold**:\n",
    "\n",
    "In this section I define a series of functions that help me extract for each functionally matched cell either teh spike trace or the fluorescent trace of their activity in response to each of the 10 repeats of the oracle stimuli they where shown (and also the average activity). I thenn proceed to us ethe function to extract these activities annd save them.\n",
    "\n",
    "    NOTE: This section imports the clean_functional_locations.csv** file from the neuron_depth.ipynb notebook (but you could do this also with a file containing the functional_features of the functionnal cells) and allows to save locally the ifnormation above in a pickle file called **clean_functional_ccmax_ost.pkl** if spike traces or **clean_functional_ccmax_calcium.pkl** if calcium traces.\n",
    "\n",
    "### Extracting Relevant Movie Stimulus section\n",
    "\n",
    "In this section I extract pickle files that contain the relevant frames of a single repeat of the Oracle stimulus shown to neurons and for which I have extracted the activity above. Since the oracle stimulus shown changes depending on the session and scan_idx the neuron was part of multiple files are extracted by the code present in this section.\n",
    "\n",
    "    NOTE: This information has been saved locally has 15 files each named according to the following naming schema  m_{session}_{scan_idx}.pkl\n",
    "\n",
    "\n",
    "\n",
    "\n",
    "\n"
   ]
  },
  {
   "attachments": {},
   "cell_type": "markdown",
   "id": "62d62796-8cc9-49b3-9817-44cafe1ce26e",
   "metadata": {
    "tags": []
   },
   "source": [
    "# Imports"
   ]
  },
  {
   "cell_type": "code",
   "execution_count": 3,
   "id": "3d1ec63f-b2f5-4692-b518-3de95d31392d",
   "metadata": {},
   "outputs": [],
   "source": [
    "import random\n",
    "random.seed(4)\n",
    "import datajoint as dj\n",
    "#from phase3 import nda, func, utils\n",
    "import numpy as np\n",
    "import matplotlib.pyplot as plt\n",
    "import pandas as pd\n",
    "from tqdm.auto import tqdm\n",
    "import seaborn as sns\n",
    "from PIL import Image\n",
    "from matplotlib import cm\n",
    "from collections import defaultdict\n",
    "from scipy.optimize import curve_fit\n",
    "import time\n",
    "import gc\n",
    "from PIL import Image\n",
    "import warnings\n",
    "import pickle"
   ]
  },
  {
   "cell_type": "code",
   "execution_count": null,
   "id": "98dab5ce-83f8-4d59-8fac-3306fea2517b",
   "metadata": {},
   "outputs": [],
   "source": [
    "dj.ERD(nda) # View schema ERD"
   ]
  },
  {
   "attachments": {},
   "cell_type": "markdown",
   "id": "301124df-2762-43bf-abfb-f052b573b0cf",
   "metadata": {
    "jp-MarkdownHeadingCollapsed": true,
    "tags": []
   },
   "source": [
    "# Definitions of columns and imaging terms"
   ]
  },
  {
   "attachments": {},
   "cell_type": "markdown",
   "id": "7bcb03e8-32fe-4ee6-9540-1538db046276",
   "metadata": {},
   "source": [
    "**session**: Think of this as the day the scan was taken in, since it might take multiple days to complete the whole imaging process\n",
    "\n",
    "**scan_id**: This was the subvolume of the whole volume of the brain that was scanned in the specific two photon functional imaging session (multiple scans can be taken in the same session, ex. on day (session) 1 I scanned subvolume 1 and 2 on day (session) 2 I scanned 3 and 4...). (Think of forming a stack of sheets of papers, each being an image of the brain volume we are focusing on).\n",
    "\n",
    "**imaging plane**: This is an even thinner 'sheet' of volume within the subvolume contained in the scan. Each scan is composed of multiple imaging planes. (Think of taking only a smaller volume of sheets of the full stack of the sheets of paper)\n",
    "\n",
    "**field**: Within an imaging plane they divided the plan in different sections (so imagine a paper sheet that is in 4 pieces or 2 pieces or x pieces) and each of these sections was a field for which they took an image to derive calcium trace... (when then they talk about 'channels' in the functional specifications document they just mean the amount of resources they had to visualise that image at the time (ex. if they had two microscopes to visualise that image at the time it would be two channels, in this case they only had 1 so its always 1 channel))."
   ]
  },
  {
   "attachments": {},
   "cell_type": "markdown",
   "id": "5aa33e07-c8df-474c-abfa-b0f96ee5471c",
   "metadata": {
    "jp-MarkdownHeadingCollapsed": true,
    "tags": []
   },
   "source": [
    "# Stimuli"
   ]
  },
  {
   "attachments": {},
   "cell_type": "markdown",
   "id": "8132663f-ba86-4b7e-b179-053382ae4df9",
   "metadata": {},
   "source": [
    "The movie shown to the mouse for each scan is housed in `nda.Stimulus`. The movie is synced to the timestamps in `nda.FrameTimes`."
   ]
  },
  {
   "cell_type": "code",
   "execution_count": null,
   "id": "5dbef902-3fee-41e6-b556-50fee3514ead",
   "metadata": {},
   "outputs": [],
   "source": [
    "scan_key = {'session': 4, 'scan_idx': 7}"
   ]
  },
  {
   "attachments": {},
   "cell_type": "markdown",
   "id": "6198cd69-9f43-4741-8551-b330d6a869cb",
   "metadata": {},
   "source": [
    "First we choose the scan key and session that once joined with the Stimulus table will give us the movie show to the mouse in that session and scan"
   ]
  },
  {
   "cell_type": "code",
   "execution_count": null,
   "id": "48b6bfeb-8f9c-4c31-9be1-ee67f82b2d12",
   "metadata": {},
   "outputs": [],
   "source": [
    "fig, axs = plt.subplots(1, 2, dpi=150) # view first and last frame of movie slice\n",
    "axs[0].imshow(mov1[:,:,60], cmap='gray')\n",
    "axs[0].set_title(f'frame: m1')\n",
    "axs[1].imshow(mov2[:,:,60], cmap='gray')\n",
    "axs[1].set_title(f'frame: m2')"
   ]
  },
  {
   "attachments": {},
   "cell_type": "markdown",
   "id": "e65e781a-6480-4dba-aa48-0a3b2aa6ba8b",
   "metadata": {},
   "source": [
    "Then we fetch the movie from this matched table if we want to inspect it at any time or use it for other things"
   ]
  },
  {
   "cell_type": "code",
   "execution_count": null,
   "id": "4f8428eb-f9f3-4023-b67b-e52db1ba2521",
   "metadata": {},
   "outputs": [],
   "source": [
    "movie = (nda.Stimulus & scan_key).fetch1('movie') # stimulus images synchronized with nda.FrameTimes\n",
    "movie.shape #(height x width x frames)"
   ]
  },
  {
   "cell_type": "code",
   "execution_count": null,
   "id": "c034914f-0270-40c5-bfd4-fbfe186f6079",
   "metadata": {},
   "outputs": [],
   "source": [
    "movie_times = (nda.FrameTimes() & scan_key).fetch1('frame_times') # timestamps of each image in the stimulus\n",
    "movie_times.shape"
   ]
  },
  {
   "attachments": {},
   "cell_type": "markdown",
   "id": "be6de4d0-8a59-4d26-acf0-bc6167b3467c",
   "metadata": {
    "tags": []
   },
   "source": [
    "## Trials"
   ]
  },
  {
   "attachments": {},
   "cell_type": "markdown",
   "id": "e91f8211-5493-4cda-b4af-b65f18e15a97",
   "metadata": {},
   "source": [
    "\n",
    "A trial represents a short segment of the stimulus. Trial information is logged in `nda.Trial` and indexed by `trial_idx`. \n",
    "\n",
    "There are three types of trials: `Clip`, `Monet2`, and `Trippy`. \n",
    "\n",
    "`Clip` types show segments that contain high-entropy scenes such as Hollywood clips, sports clips and rendered movies. \n",
    "\n",
    "`Monet2` and `Trippy` types show parametric segments. \n",
    "\n",
    "Each stimulus segment has a unique identifier in its `condition_hash` and are indexed in the tables `nda.Clip`, `nda.Monet2`, and `nda.Trippy`. \n",
    "\n",
    "`start_idx` and `stop_idx` are the indices of the movie in `nda.Stimulus` during which the trial was ongoing. \n",
    "\n",
    "`start_frame_time` and `end_frame_time` are the timestamps of the `start_idx` and `end_idx` in seconds relative to the start of the scan. \n",
    "\n",
    "`frame_times` are the timestamps of every frame shown in the movie segment at the original presentation frequency (not synced to the scan). \n",
    "\n",
    "*Note that in `nda.Trial`, `frame_times` differs the attribute `frame_times` in `nda.FrameTimes`. Nomenclature will be updated and clarified in a future version.*"
   ]
  },
  {
   "cell_type": "code",
   "execution_count": null,
   "id": "efe6f4e4-ecc4-4a16-b4b6-e12b133237cb",
   "metadata": {},
   "outputs": [],
   "source": [
    "nda.Trial & scan_key"
   ]
  },
  {
   "attachments": {},
   "cell_type": "markdown",
   "id": "0cf288f1-8a7d-46ca-9e21-377c22389456",
   "metadata": {},
   "source": [
    "A stimulus condition (the *type* column) is a unit of movie stimulus, and a stimulus trial (the *trial_idx* column) is an instance of that condition being shown to the animal, as well as the activity and behavior that are recorded during that period."
   ]
  },
  {
   "attachments": {},
   "cell_type": "markdown",
   "id": "2350b43b-02ee-4b5f-bfb5-8de021752c8c",
   "metadata": {},
   "source": [
    "Detailed information about the stimulus during each trial can be obtained by restricting into the appropriate type-specific table. The example trial_key below restricts to a `Monet2` type trial. "
   ]
  },
  {
   "cell_type": "code",
   "execution_count": null,
   "id": "56e25a54-4fa1-400a-8fda-39c7b64ec1eb",
   "metadata": {},
   "outputs": [],
   "source": [
    "trial_key = {'session': 4, 'scan_idx': 7, 'trial_idx': 8}"
   ]
  },
  {
   "cell_type": "code",
   "execution_count": null,
   "id": "e4b68d6a-e3ab-4e35-a9dc-1befc5c03a96",
   "metadata": {},
   "outputs": [],
   "source": [
    "trial_info = nda.Trial & trial_key\n",
    "trial_info"
   ]
  },
  {
   "attachments": {},
   "cell_type": "markdown",
   "id": "1975d952-d114-4e3f-9715-4367b7fa05fe",
   "metadata": {},
   "source": [
    "[Join](https://docs.datajoint.io/python/queries/07-Join.html) `trial_info` with `nda.Monet2` using the `*` operator to get all available information about the stimulus during that trial. \n",
    "\n",
    "`Monet2` is a directional stimuli, and the vector of directions during the trial is stored in the `directions` attribute. See technical methods for a more detailed description of the contents of this and other stimulus type tables. "
   ]
  },
  {
   "cell_type": "code",
   "execution_count": null,
   "id": "f50e117b-fdeb-411d-afc6-b5d4e503604a",
   "metadata": {},
   "outputs": [],
   "source": [
    "trial_info * nda.Monet2"
   ]
  },
  {
   "attachments": {},
   "cell_type": "markdown",
   "id": "ff920d9d-4bcc-42fe-8f3a-dda3623e7ae5",
   "metadata": {},
   "source": [
    "Use `start_idx` and `end_idx` to view the part of the stimulus corresponding to the trial. These essentially give you the matched frames from nda.FreameTimes that are matched to a specific image in the movie in nda.Stimulus"
   ]
  },
  {
   "cell_type": "code",
   "execution_count": null,
   "id": "8f6b7946-61a2-4eaf-bcf3-d33a0b16047d",
   "metadata": {},
   "outputs": [],
   "source": [
    "start, end = (trial_info * nda.Monet2).fetch1('start_idx', 'end_idx') # Fetch indices of trial\n",
    "print(f'Trial starts at index: {start} and ends at index {end}')"
   ]
  },
  {
   "cell_type": "code",
   "execution_count": null,
   "id": "ac893c45-e6f8-4a58-bf65-c2aa723e116b",
   "metadata": {},
   "outputs": [],
   "source": [
    "stimulus_trial_slice = movie[:,:,slice(start, end)] # slice movie according to indices of trial\n",
    "stimulus_trial_slice.shape"
   ]
  },
  {
   "cell_type": "code",
   "execution_count": null,
   "id": "4709b673-e5aa-44ef-b1e7-6337963b2044",
   "metadata": {},
   "outputs": [],
   "source": [
    "fig, axs = plt.subplots(1, 2, dpi=150) # view first and last frame of movie slice\n",
    "axs[0].imshow(stimulus_trial_slice[:,:,0], cmap='gray')\n",
    "axs[0].set_title(f'frame: {start}')\n",
    "axs[1].imshow(stimulus_trial_slice[:,:,-1], cmap='gray')\n",
    "axs[1].set_title(f'frame: {end}')\n",
    "[ax.axis('off') for ax in axs];"
   ]
  },
  {
   "attachments": {},
   "cell_type": "markdown",
   "id": "3a2f7768-6ac6-4341-a8e6-c7e96845d858",
   "metadata": {
    "jp-MarkdownHeadingCollapsed": true,
    "tags": []
   },
   "source": [
    "# Spike traces"
   ]
  },
  {
   "attachments": {},
   "cell_type": "markdown",
   "id": "87f169b7-6b8c-4f77-98b2-c7f13a50e896",
   "metadata": {},
   "source": [
    "Spike traces are in `nda.Activity` and associated with single units (`unit_id's` which correspond to a specific neuron from CAVE client functonally matched table)."
   ]
  },
  {
   "cell_type": "code",
   "execution_count": null,
   "id": "4f6aa027-8308-4410-a353-8244a1ef88b6",
   "metadata": {},
   "outputs": [],
   "source": [
    "unit_key = {'session': 4, 'scan_idx': 7, 'unit_id': 1262}"
   ]
  },
  {
   "cell_type": "code",
   "execution_count": null,
   "id": "e09bb7fa-2306-4c05-a3d7-ea5b7c9ee9ad",
   "metadata": {},
   "outputs": [],
   "source": [
    "nda.Activity() & unit_key"
   ]
  },
  {
   "cell_type": "code",
   "execution_count": null,
   "id": "4fcfb4de-0948-4e37-b88e-600c4f3e2c39",
   "metadata": {},
   "outputs": [],
   "source": [
    "spike_trace = (nda.Activity() & unit_key).fetch1('trace')"
   ]
  },
  {
   "cell_type": "code",
   "execution_count": null,
   "id": "5c755cb4-cabf-490e-a264-c99004d9b832",
   "metadata": {},
   "outputs": [],
   "source": [
    "fig, ax = plt.subplots(figsize=(10, 3), dpi=150)\n",
    "ax.plot(spike_trace, c='k')\n",
    "ax.set_xlabel('Frames')\n",
    "ax.set_ylabel('Spike trace')\n",
    "ax.spines['right'].set_visible(False)\n",
    "ax.spines['top'].set_visible(False)"
   ]
  },
  {
   "attachments": {},
   "cell_type": "markdown",
   "id": "eaf58c4c-b04c-4122-a5df-99a03062d658",
   "metadata": {},
   "source": [
    "You can see that on the x axis we have the frames because this shows the activity of the neurone to the whole movie shown. If you wanted the specific spike trace activity of the neurone for a specific stimulus you can subset the graph by only containingthe frames for which the specific stimulus was shown. Let's do that for one trial of the 'Trippy' stimulus"
   ]
  },
  {
   "cell_type": "code",
   "execution_count": null,
   "id": "1da4070b-ac21-4cbd-b39d-7cfbf3dff825",
   "metadata": {},
   "outputs": [],
   "source": [
    "#Picking a trial instance of Trippy'\n",
    "trip = {'session': 4, 'scan_idx': 7, 'trial_idx':400}\n",
    "trial_trip=  nda.Trial & trip\n",
    "trial_trip"
   ]
  },
  {
   "cell_type": "code",
   "execution_count": null,
   "id": "8cd21585-1353-48bf-9fee-d393c9ad5117",
   "metadata": {},
   "outputs": [],
   "source": [
    "#Etxracting start and end frames\n",
    "start, end = trial_trip.fetch1('start_idx', 'end_idx') # Fetch indices of trial\n",
    "print(f'Trial starts at index: {start} and ends at index {end}')"
   ]
  },
  {
   "cell_type": "code",
   "execution_count": null,
   "id": "b8b21f1f-ea71-4104-b13e-4855d247c2eb",
   "metadata": {},
   "outputs": [],
   "source": [
    "#Subsetting teh spike trace of the neurone we visualised it for earlier\n",
    "fig, ax = plt.subplots(figsize=(10, 3), dpi=150)\n",
    "ax.plot(spike_trace[start:end], c='k')\n",
    "ax.set_xlabel('Frames')\n",
    "ax.set_ylabel('Spike trace')\n",
    "ax.spines['right'].set_visible(False)\n",
    "ax.spines['top'].set_visible(False)\n",
    "ax.set_title('Spike trace of neuron 1262 for trial 400 (an instance of the Trippy trial)')\n",
    "plt.show()"
   ]
  },
  {
   "attachments": {},
   "cell_type": "markdown",
   "id": "6cfadce1-2bff-4b9b-86bb-3e1cc63c6a8a",
   "metadata": {
    "tags": []
   },
   "source": [
    "## View  fluorescence trace, and spike trace for the same unit"
   ]
  },
  {
   "attachments": {},
   "cell_type": "markdown",
   "id": "5f084d48-54a5-4dc9-aead-840df0ba059f",
   "metadata": {},
   "source": [
    "Use `nda.ScanUnit` to bridge between `unit_id` and `mask_id` to plot both the calcium trace spike trace and for a single unit."
   ]
  },
  {
   "cell_type": "code",
   "execution_count": null,
   "id": "9c17bcf1-5df9-491d-be31-dc535c4e510e",
   "metadata": {},
   "outputs": [],
   "source": [
    "nda.Fluorescence & (nda.ScanUnit & unit_key)"
   ]
  },
  {
   "cell_type": "code",
   "execution_count": null,
   "id": "53372135-d748-43d6-9e35-0037a73fce46",
   "metadata": {},
   "outputs": [],
   "source": [
    "calcium_trace = (nda.Fluorescence & (nda.ScanUnit & unit_key)).fetch1('trace')"
   ]
  },
  {
   "cell_type": "code",
   "execution_count": null,
   "id": "66c16966-9231-4d8d-ac15-f8b7bd01a1c4",
   "metadata": {},
   "outputs": [],
   "source": [
    "fig, ax = plt.subplots(figsize=(10, 3), dpi=150)\n",
    "ax.plot(calcium_trace/ np.max(calcium_trace), c='g', alpha=0.5, label='calcium')\n",
    "ax.plot(spike_trace/ np.max(spike_trace), c='k', label='spike', alpha=0.5)\n",
    "ax.set_xlabel('Frames')\n",
    "ax.legend()\n",
    "ax.spines['right'].set_visible(False)\n",
    "ax.spines['top'].set_visible(False)"
   ]
  },
  {
   "attachments": {},
   "cell_type": "markdown",
   "id": "e29a700b-c34c-42f7-8281-a0172fceb742",
   "metadata": {
    "tags": []
   },
   "source": [
    "# Selecting relevant stimuli for our analysis\n"
   ]
  },
  {
   "attachments": {},
   "cell_type": "markdown",
   "id": "d55b88d0-398b-4e91-b305-1f8e5d02e530",
   "metadata": {},
   "source": [
    "It is important that we are able to analyse the relationship between the reponse of different neurons to the same stimuli. While the Trippy and Monet stimuli where randomised across different scans and sessions, a particular subsed of six stimuli the Clippy class (the natural stimuli) where always the same. In addition, these stimuli where also repeated 10 times per scan, allowing to also understand the reliability of the trace response of the neurons to the same stimuli. This allows to both identify neurons that do not have excessive trial repeat variability, but also that do not have excessive habituation to a stimuli.\n",
    "\n",
    "The analysis of the neuronal activity that is presented in this project will focus exclusively on the repsonses to this subset of stimuli, hencefort referred to as 'Oracle stimuli'. "
   ]
  },
  {
   "attachments": {},
   "cell_type": "markdown",
   "id": "3ffa7672-7abf-4b8a-a98a-e59a205e8ae0",
   "metadata": {
    "tags": []
   },
   "source": [
    "## Identifying and extracting Oracle stimuli"
   ]
  },
  {
   "cell_type": "code",
   "execution_count": null,
   "id": "685806d3-c533-4705-b138-9b1ca435d646",
   "metadata": {},
   "outputs": [],
   "source": [
    "#session and scan values for which we have cells\n",
    "pairs = {(4, 7), (5, 3), (5, 6),(5, 7),(6, 2),(6, 4),(6, 6),(6, 7),(7, 3),(7, 4),(7, 5),(8, 5),(9, 3),(9, 4),(9, 6)}"
   ]
  },
  {
   "cell_type": "code",
   "execution_count": null,
   "id": "9bf8c1ed-ef1b-40e4-a572-1f9bbb9ef0ef",
   "metadata": {},
   "outputs": [],
   "source": [
    "def stimulus_idx_extractor(pairs, stimulus_type, only_oracle = False):\n",
    "    '''This function extracts all the indices for a certain session and scan idx that correspond to a\n",
    "     specific stimulus type in th MICrONS dataset\n",
    "    \n",
    "    Parameters:\n",
    "    pairs: list of tuples specifying (session, scan_idx)\n",
    "    stimulus_type: string specifying stimulus type, one of \n",
    "        'stimulus.Clip': natural movies, \n",
    "        'stimulus.Trippy': Trippy type stimuli,\n",
    "        'stimulus.Monet2': Monet type stimuli\n",
    "    only_oracel: Boolean to specify if only want the oracle stimuli out of the natural stimuli, this option\n",
    "    only works if you specify stimulus_type = 'stimulus.Clip'\n",
    "    \n",
    "    Returns:\n",
    "    dictionary of lists where key is (session, scan_idx) tuple and values is a list of lists \n",
    "    where each sub list is [start_idx, end_idx] of indices containing the relevant activity or movie frames\n",
    "    for that stimulus repeat\n",
    "    '''\n",
    "    #Extract all hashes identifying unique stimuli \n",
    "    set_list = []#define set list\n",
    "\n",
    "    #loop through relevant sessions and scans\n",
    "    for i in tqdm(pairs): \n",
    "        #define keys to query database, in this case selects only clip stimuli (which contains oracol subset)\n",
    "        trial_id = {'session':i[0], 'scan_idx':i[1],'type':stimulus_type}\n",
    "\n",
    "        #find condition hashes of all stimuli in the key and save in a set to remove duplicates\n",
    "        s = set((nda.Trial&trial_id).fetch('condition_hash'))\n",
    "\n",
    "        #Append this set to a list of set of hashes\n",
    "        set_list.append(s)\n",
    "\n",
    "    #Use the * operator to unpack each set in the list and find intersection between all sets to find all\n",
    "    #unique hashes\n",
    "    res = set.intersection(*set_list)\n",
    "    \n",
    "    if only_oracle == True:\n",
    "        oracle = []\n",
    "        #loop through all hashes\n",
    "        for i in tqdm(res):\n",
    "            #query a generic session and scan\n",
    "            test_id1 = {'session':7, 'scan_idx':3,'condition_hash':i}\n",
    "\n",
    "            #If hash contained ten times its an oracle stimuli so save the hash\n",
    "            if len(nda.Trial&test_id1) == 10:\n",
    "                oracle.append(i)\n",
    "        res = oracle\n",
    "    seq_oracle = defaultdict(list) #Initiate dictionary\n",
    "\n",
    "    \n",
    "    for i in tqdm(sorted(res)):\n",
    "        #Select a hash of a trial and extract all the relevant identifiers across all sessions and scans\n",
    "        sess, scid, startid, endid = (nda.Trial&{'condition_hash':i}).fetch('session','scan_idx', 'start_idx', 'end_idx')\n",
    "        \n",
    "        #for each entry save the start and end of each occurrance of the stimulus specified by the hash\n",
    "        #segmenting by the relevant session and scan id\n",
    "        for s, sc, start, end in zip(sess, scid, startid, endid):\n",
    "            if (s,sc) in pairs:\n",
    "                seq_oracle[(s, sc)] += [[start, end]]\n",
    "            else:\n",
    "                continue\n",
    "    return seq_oracle"
   ]
  },
  {
   "cell_type": "code",
   "execution_count": null,
   "id": "47374fc8-4a1d-4cf5-8f4a-60b9a4c39747",
   "metadata": {},
   "outputs": [],
   "source": [
    "seq_oracle = stimulus_idx_extractor(pairs, 'stimulus.Clip', only_oracle = True)"
   ]
  },
  {
   "attachments": {},
   "cell_type": "markdown",
   "id": "7d8df944-39d6-4a2a-a563-09b7bd0c9102",
   "metadata": {
    "jp-MarkdownHeadingCollapsed": true,
    "tags": []
   },
   "source": [
    "## Checking correlation between same stimuli across sessions"
   ]
  },
  {
   "attachments": {},
   "cell_type": "markdown",
   "id": "54035bdd-4219-4395-9ec0-6f370ee93587",
   "metadata": {},
   "source": [
    "Here we do a quick manual double check to see if the movie stimuli for one of the oracle trials between two difference sessions and scans are indeed the same stimulus"
   ]
  },
  {
   "cell_type": "code",
   "execution_count": null,
   "id": "cdccbca0-e25b-4a5b-9fed-564f3118371c",
   "metadata": {},
   "outputs": [],
   "source": [
    "#Select same oracel stimulus hash across two sessions and scans\n",
    "test_id1 = {'session':4, 'scan_idx':7,'condition_hash':list(oracle)[0]}\n",
    "test_id2 = {'session':5, 'scan_idx':3,'condition_hash':list(oracle)[0]}"
   ]
  },
  {
   "cell_type": "code",
   "execution_count": null,
   "id": "de42622d-57b2-47d3-85d0-354880177a05",
   "metadata": {},
   "outputs": [],
   "source": [
    "#Fetch the ids of the specified stimuli\n",
    "ses1 = (nda.Trial&test_id1).fetch('trial_idx')\n",
    "ses2 = (nda.Trial&test_id2).fetch('trial_idx')"
   ]
  },
  {
   "cell_type": "code",
   "execution_count": null,
   "id": "b3e4331d-ba0f-471f-bd1b-ee2abb47d39a",
   "metadata": {},
   "outputs": [],
   "source": [
    "#Extract movie\n",
    "mov1 = (nda.Stimulus & {'session':4, 'scan_idx':7}).fetch1('movie')"
   ]
  },
  {
   "cell_type": "code",
   "execution_count": null,
   "id": "63806c81-a181-4884-acd7-27551675c447",
   "metadata": {},
   "outputs": [],
   "source": [
    "# Select two different trials of the same stimulus within the same session\n",
    "#Trial one\n",
    "trial_id = {'session':4, 'scan_idx':7,'trial_idx':ses1[0]}\n",
    "st = (nda.Trial&trial_id).fetch1('start_idx', 'end_idx')\n",
    "t1 = mov1[:,:,slice(st[0], st[1])]\n",
    "\n",
    "#Trial two\n",
    "trial_id2 = {'session':4, 'scan_idx':7,'trial_idx':ses1[1]}\n",
    "st2 = (nda.Trial&trial_id2).fetch1('start_idx', 'end_idx')\n",
    "t2 = mov1[:,:,slice(st2[0], st2[1])]\n",
    "\n",
    "del mov1\n",
    "gc.collect()"
   ]
  },
  {
   "cell_type": "code",
   "execution_count": null,
   "id": "daff8d3c-7985-41af-9a65-00cc02968af7",
   "metadata": {},
   "outputs": [],
   "source": [
    "#Extract movie of the second stimulus\n",
    "mov2 = (nda.Stimulus & {'session':5, 'scan_idx':3}).fetch1('movie')"
   ]
  },
  {
   "cell_type": "code",
   "execution_count": null,
   "id": "c92f7d87-5823-4369-a4c6-f7e75f494adc",
   "metadata": {},
   "outputs": [],
   "source": [
    "# Select two different trials of the second stimulus within the same session\n",
    "#Trial one\n",
    "trial_id3 = {'session':5, 'scan_idx':3,'trial_idx':ses2[4]}\n",
    "st3 = (nda.Trial&trial_id3).fetch1('start_idx', 'end_idx')\n",
    "t3 = mov2[:,:,slice(st3[0], st3[1])]\n",
    "\n",
    "#Trial two\n",
    "trial_id4 = {'session':5, 'scan_idx':3,'trial_idx':ses2[1]}\n",
    "st4 = (nda.Trial&trial_id4).fetch1('start_idx', 'end_idx')\n",
    "t4 = mov2[:,:,slice(st4[0], st4[1])]"
   ]
  },
  {
   "cell_type": "code",
   "execution_count": null,
   "id": "c9a8e439-43bb-4b29-8592-7167bc398c92",
   "metadata": {},
   "outputs": [],
   "source": [
    "#Visulalise a frame of the first session\n",
    "plt.imshow(t1[:,:,-1])"
   ]
  },
  {
   "cell_type": "code",
   "execution_count": null,
   "id": "219ee7b1-04fd-4ab2-9a50-9098de267b65",
   "metadata": {},
   "outputs": [],
   "source": [
    "#Visualise a frame if the other session\n",
    "plt.imshow(t2[:,:,-1])"
   ]
  },
  {
   "cell_type": "code",
   "execution_count": null,
   "id": "59eb3f7c-b3a7-43fa-abfa-a698e59e6736",
   "metadata": {},
   "outputs": [],
   "source": [
    "#Calulate the correlation between the matrices\n",
    "np.corrcoef(np.array((t1[:,:,:].ravel(), t2[:,:,:].ravel(),t3[:,:,:].ravel(), t4[:,:,:].ravel())))"
   ]
  },
  {
   "attachments": {},
   "cell_type": "markdown",
   "id": "605ec380-ad02-46e5-8711-97c33b5ccd1d",
   "metadata": {},
   "source": [
    "These results highlight high correlations between frames of the natural image stimulus that are indexed by the same hash across sessions and scans, suggesting that they are similar enough to calculate the correlation of spike trace activity on."
   ]
  },
  {
   "attachments": {},
   "cell_type": "markdown",
   "id": "38807739-a25d-4942-a7ab-2e3baf23d0f5",
   "metadata": {
    "jp-MarkdownHeadingCollapsed": true,
    "tags": []
   },
   "source": [
    "## Extracting and saving relevant spike traces for Oracle stimuli and reliability threshold"
   ]
  },
  {
   "attachments": {},
   "cell_type": "markdown",
   "id": "470b4c93-6072-45d9-b9fb-b372ca58e77a",
   "metadata": {},
   "source": [
    "In this section we extract both the spike traces for teh repeated oracle stimuli and also calculate the ccmax measure to assess the reliability of neuron repsonse"
   ]
  },
  {
   "cell_type": "code",
   "execution_count": 5,
   "id": "c6d6aa62-27c1-4a4a-a686-26fb538121bf",
   "metadata": {},
   "outputs": [],
   "source": [
    "func_locations = pd.read_csv('clean_functional_locations.csv')\n",
    "func_locations.head(2)"
   ]
  },
  {
   "cell_type": "code",
   "execution_count": null,
   "id": "d68cd7b2-8db6-44c5-a5c3-f0b0bf77305d",
   "metadata": {},
   "outputs": [],
   "source": [
    "def regularizer_calc(unit_key, calcium = False):\n",
    "    '''This function extracts the activity of each neuron at each of the 10 Oracle trials\n",
    "    across the 6 stimuli\n",
    "    \n",
    "    Parameters:\n",
    "    unit_key: dictionary containing session, scan_idx and unit_id to identify the cell\n",
    "    calcium: boolean deciding wether to extract activity as the calcium trace or the spike trace\n",
    "    \n",
    "    Returns:\n",
    "    Array with nueron activity, with one row per repeat of the oracle stimuli\n",
    "    '''\n",
    "    \n",
    "    if calcium == True:\n",
    "        #Query calcium trace from data joint \n",
    "        st1 = (nda.Fluorescence & (nda.ScanUnit & unit_key)).fetch1('trace')\n",
    "    else:\n",
    "        #Query spike trace from data joint \n",
    "        st1 = (nda.Activity& unit_key).fetch1('trace')\n",
    "    \n",
    "    ys = []\n",
    "    \n",
    "    for s,e in seq_oracle[(unit_key['session'], unit_key['scan_idx'])]:\n",
    "        #extract activity for each of the oracle stimulus in the specific session and scan\n",
    "        # crop to 62 since not all of the trials had 63 frames exactly and the shortest length was 62\n",
    "        ys+=list(st1[s:s+62])\n",
    " \n",
    "    #This returns an array where each row is all of the activity across the 10 repeats for one of the\n",
    "    #6 oracle stimuli\n",
    "    six_oracles = np.array(ys).reshape((6, 620))\n",
    "    \n",
    "    #Turning the matrix in one where each row is a repeat of all the oracle stimuli\n",
    "    repeats = []\n",
    "    for i in range(0,620,62):\n",
    "        # select a repeat of all six oracle stimuli\n",
    "        repeats.append(six_oracles[:, i:i+62].ravel())\n",
    "    \n",
    "        \n",
    "    return np.array(repeats)"
   ]
  },
  {
   "cell_type": "code",
   "execution_count": null,
   "id": "f583f8f4",
   "metadata": {},
   "outputs": [],
   "source": [
    "def activity_extractor(unit_key, seq_dict, calcium = False):\n",
    "    \n",
    "    '''This function extracts the activity of each neuron at each of the intervals specified in the\n",
    "    seq_dict parameters\n",
    "    \n",
    "    Parameters:\n",
    "    unit_key: dictionary containing session, scan_idx and unit_id to identify the cell\n",
    "    calcium: boolean deciding wether to extract activity as the calcium trace or the spike trace\n",
    "    seq_dict: dictionary of lists where key is (session, scan_idx) tuple and values is a list of lists \n",
    "    where each sub list is [start_idx, end_idx] of indices containing the relevant activity or movie frames\n",
    "    for that stimulus repeat\n",
    "    \n",
    "    Returns:\n",
    "    Array with nueron activity, with one row per stimuli\n",
    "    '''\n",
    "    \n",
    "    if calcium == True:\n",
    "        #Query calcium trace from data joint \n",
    "        st1 = (nda.Fluorescence & (nda.ScanUnit & unit_key)).fetch1('trace')\n",
    "    else:\n",
    "        #Query spike trace from data joint \n",
    "        st1 = (nda.Activity& unit_key).fetch1('trace')\n",
    "    \n",
    "    ys = []\n",
    "    \n",
    "    for s,e in seq_dict[(unit_key['session'], unit_key['scan_idx'])]:\n",
    "        #extract activity for each of the stimulus in the specific session and scan\n",
    "        # crop to 62 since not all of the trials had 63 frames exactly and the shortest length was 62\n",
    "        ys.append(list(st1[s:s+62]))\n",
    " \n",
    "   \n",
    "    \n",
    "        \n",
    "    return np.array(ys)"
   ]
  },
  {
   "cell_type": "code",
   "execution_count": null,
   "id": "eea18bd8-61fa-4312-bac5-f7bc117b2de8",
   "metadata": {},
   "outputs": [],
   "source": [
    "def ccmax(ys):\n",
    "    '''This function calculates the cc max measure described in Ding et al. 2023'''\n",
    "    var_ymean = np.var(np.mean(ys, axis = 0))\n",
    "    m_var_ys = np.mean([np.var(i) for i in ys])\n",
    "\n",
    "    numer = (len(ys)*var_ymean)-m_var_ys\n",
    "    denom = (len(ys)-1)*var_ymean\n",
    "    return np.sqrt(numer/denom)\n",
    "    "
   ]
  },
  {
   "cell_type": "code",
   "execution_count": null,
   "id": "0cc26ec5-6bab-4a21-95d1-9521097f0cd8",
   "metadata": {},
   "outputs": [],
   "source": [
    "warnings.filterwarnings(\"ignore\")\n",
    "ccmaxs = [] #save ccmax values in a list\n",
    "st = [] #save spike traces\n",
    "\n",
    "for i in tqdm(range(len(func_locations))):\n",
    "    \n",
    "    #Identify session, scan and unit number\n",
    "    sess = func_locations['session'].iloc[i]\n",
    "    scan = func_locations['scan_idx'].iloc[i]\n",
    "    unit = func_locations['unit_id'].iloc[i]\n",
    "    \n",
    "    #Generate relevant unit key\n",
    "    unit_key = {'session':sess, 'scan_idx':scan,'unit_id':unit}\n",
    "    \n",
    "    #Extract matrix of relevant activity traces\n",
    "    ys = regularizer_calc(unit_key, calcium = True)\n",
    "    \n",
    "    #Calculate ccmax for the specific neuron and save it in the list\n",
    "    ccmaxs.append(ccmax(ys))\n",
    "    \n",
    "    #Caluclate mean activation column and append it to activations\n",
    "    mean = np.mean(ys, axis = 0)\n",
    "    full = np.vstack((ys, mean))\n",
    "    st.append(full)\n",
    "    \n",
    "    del ys\n",
    "    del sess\n",
    "    del scan\n",
    "    del unit\n",
    "    del mean\n",
    "    del full\n",
    "    gc.collect()"
   ]
  },
  {
   "cell_type": "code",
   "execution_count": null,
   "id": "3fd15e6e-b961-4a4f-847c-e3c068f02ae3",
   "metadata": {},
   "outputs": [],
   "source": [
    "#Add it as a fetaure column to existing functionally matched data\n",
    "func_locations['ccmax'] = ccmaxs\n",
    "#modify name according to type of activity you are extracting\n",
    "func_locations['oracle_calcium_traces'] = st"
   ]
  },
  {
   "cell_type": "code",
   "execution_count": null,
   "id": "7cea141a-6d17-4adf-a9c3-2f33d2ab42e9",
   "metadata": {},
   "outputs": [],
   "source": [
    "# Saving the data\n",
    "#If spike traces\n",
    "#func_locations.to_pickle('clean_functional_ccmax_ost.pkl')\n",
    "\n",
    "#If calcium traces\n",
    "#func_locations.to_pickle('clean_functional_ccmax_calcium.pkl')"
   ]
  },
  {
   "attachments": {},
   "cell_type": "markdown",
   "id": "95f0ee82-d1e3-470d-98a9-bac82661d2ef",
   "metadata": {
    "jp-MarkdownHeadingCollapsed": true,
    "tags": []
   },
   "source": [
    "## Extracting Relevant Movie Stimulus sections"
   ]
  },
  {
   "attachments": {},
   "cell_type": "markdown",
   "id": "3faeff85-8842-47ae-8343-d4e8c85dcb3d",
   "metadata": {},
   "source": [
    "It is known that once exposed to a repeated stimuli a neurone habituates and responses are suppressed over time. In order to estimate receptive fields using the stimuli we will utilise only the first repeat of the six oracle stimuli of each neurone, which should be the one for wich neuron response is more strongly characterised. \n",
    "\n",
    "Since for some of the computations that we will have to overtake at present the data joint server crashes, we will (like we did for spike traces), save the relevant movie sections for each session and scan so as to use it locally (if enough computing power is available) or on a different server."
   ]
  },
  {
   "cell_type": "code",
   "execution_count": null,
   "id": "e2a2a236-e08e-49e9-ae9e-66983694a3a1",
   "metadata": {},
   "outputs": [],
   "source": [
    "def first_mov_extractor(pair):\n",
    "    #generate key and query movie\n",
    "    movie_key = {'session': pair[0], 'scan_idx': pair[1]}\n",
    "    mov = (nda.Stimulus&movie_key).fetch1('movie')\n",
    "    \n",
    "    #Select the index of the intervals of the first set of oracle stimuli (6 index, one for every stimuli)\n",
    "    intervals = np.array(seq_oracle[(pair[0],pair[1])])[[*range(0,60, 10)]]\n",
    "    \n",
    "    #extract movie segments\n",
    "    m = mov[:,:, intervals[0][0]:intervals[0][0]+62]\n",
    "    for p in intervals[1:]:\n",
    "        m1 = mov[:,:, p[0]:p[0]+62]\n",
    "        m = np.dstack((m,m1))\n",
    "    return m"
   ]
  },
  {
   "cell_type": "code",
   "execution_count": null,
   "id": "77d5cef7-5c81-4326-b67f-cbf02230cd55",
   "metadata": {},
   "outputs": [],
   "source": [
    "# The data joint serverkernel keeps on crashing so once the kernel restarts add the pairs you have extracted so far\n",
    "# to the 'to_rem' list so that you can continue with the ones left\n",
    "pairs_new = list(pairs.copy())\n",
    "to_rem = [(6, 2), (7, 4), (9, 3), (4, 7), (6, 6), (6, 4), (5, 7), (7, 3), (8, 5), (6, 7),\n",
    "(5, 6), (5, 3), (7, 5), (9, 4)]\n",
    "\n",
    "for i in to_rem:\n",
    "    pairs_new.remove(i)"
   ]
  },
  {
   "cell_type": "code",
   "execution_count": null,
   "id": "fde36b04-7203-43cd-9e15-f17a85df6e7f",
   "metadata": {},
   "outputs": [],
   "source": [
    "# STILL NEED TO EXTRACT (9, 6)!!!"
   ]
  },
  {
   "cell_type": "code",
   "execution_count": null,
   "id": "b6d44790-e35a-41dd-8d9e-274411d5d773",
   "metadata": {},
   "outputs": [],
   "source": [
    "for pair in pairs_new:\n",
    "    movie = first_mov_extractor(pair)\n",
    "    with open(f'm_{pair[0]}_{pair[1]}.pkl', 'wb') as file:\n",
    "        pickle.dump(movie, file)\n",
    "    \n",
    "    del movie\n",
    "    gc.collect()"
   ]
  },
  {
   "cell_type": "code",
   "execution_count": null,
   "id": "71f99b46-996b-41b0-8c15-d36ef1f897b4",
   "metadata": {},
   "outputs": [],
   "source": [
    "#To import the file once needed:\n",
    "#with open(f'm_{4}_{7}.pkl', 'rb') as file:\n",
    "#    mt = pickle.load(file)"
   ]
  },
  {
   "attachments": {},
   "cell_type": "markdown",
   "id": "323ee41e",
   "metadata": {},
   "source": [
    "NOTE:\n",
    "at present data joint seems to be unable to handle the import of the movie for session 9 scan 6 (i.e. (9,6)). It was thus not possible to extract and save this movie for further receptive field analysis"
   ]
  }
 ],
 "metadata": {
  "kernelspec": {
   "display_name": "Python 3 (ipykernel)",
   "language": "python",
   "name": "python3"
  },
  "language_info": {
   "codemirror_mode": {
    "name": "ipython",
    "version": 3
   },
   "file_extension": ".py",
   "mimetype": "text/x-python",
   "name": "python",
   "nbconvert_exporter": "python",
   "pygments_lexer": "ipython3",
   "version": "3.10.8"
  }
 },
 "nbformat": 4,
 "nbformat_minor": 5
}
