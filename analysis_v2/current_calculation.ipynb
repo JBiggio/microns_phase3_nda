{
 "cells": [
  {
   "attachments": {},
   "cell_type": "markdown",
   "metadata": {},
   "source": [
    "# Notebook content overview"
   ]
  },
  {
   "attachments": {},
   "cell_type": "markdown",
   "metadata": {},
   "source": [
    "This notebook presents code that allows to explore the pre synaptic conenctome of a neuron based on the profile of the selectivity of the currents of the its presynaptic neurons to different angles. It also allows to extract an updated connectome of only selective cells with their preferred orientations and accompanying spike trace responses to Monet2 stimuli\n",
    "\n",
    "### Data Read In\n",
    "\n",
    "This notebook utilises the data **functional_connectome_stcorr.csv** from the st_correlation_analysis.ipynb notebook, the **clean_functional_ccmax_ost.pkl** data from the *neuron_activity_extraction.pkl* notebook and the **orientation_fits.csv** data from the *orientation_extraction.ipynb* notebook.\n",
    "\n",
    "### Extracting layers of functional cells\n",
    "\n",
    "Utilised the standard_transform package to extract the layers that each nenuron belong to.\n",
    "\n",
    "    NOTE: This information has been saved locally as a file named **clean_functional_layers.pkl**\n",
    "\n",
    "### Generate the set of selective cells\n",
    "\n",
    "Subsetted the functional cells to only leave those that are selective in some way (removed fringe cases and non selective cells). In addition I have discretized the preferred orientation, finding the one that is closes to the 16 orientations shown in the Monet2 trials\n",
    "\n",
    "    NOTE: This set of selective cells and all new information has been saved locally with teh label **selective_cells.pkl**\n",
    "\n",
    "### Connectivity profile of pre-synaptic neurons of a sample of neurons\n",
    "\n",
    "In this section I have visualised how the number of connnectiosnn that are selective, functionally matched and teh number of connectionsn overall varies in a sample of 100 neurons.\n",
    "\n",
    "### Single neuron test of subset L2/3 and angles\n",
    "\n",
    "In this section the currents annd discretized maximums of the presynaptic, selective neurons of a specified post synaptic neuron from layer 2/3 of V1 are extracted.\n",
    "\n",
    "###  Iterate through cells to extract current data\n",
    "\n",
    "In this section an iterative routine is utilised to extract teh infnormation detailed in teh previous section for ALL cells in layer 2/3 of V1\n",
    "\n",
    "    NOTE. This information is saved locally for each cell individually in files labelled with the schema currents_{postcell_id}.pkl, at first and then collated in a single file labelled **total_currents.pkl**\n",
    "\n",
    "\n"
   ]
  },
  {
   "attachments": {},
   "cell_type": "markdown",
   "metadata": {},
   "source": [
    "# Imports"
   ]
  },
  {
   "cell_type": "code",
   "execution_count": 1,
   "metadata": {},
   "outputs": [],
   "source": [
    "import random\n",
    "#import datajoint as dj\n",
    "#from phase3 import nda, func, utils\n",
    "import numpy as np\n",
    "import matplotlib.pyplot as plt\n",
    "import pandas as pd\n",
    "from tqdm.auto import tqdm\n",
    "import seaborn as sns\n",
    "from PIL import Image\n",
    "from matplotlib import cm\n",
    "from collections import defaultdict\n",
    "from scipy.optimize import curve_fit\n",
    "import time\n",
    "import gc\n",
    "from PIL import Image\n",
    "import warnings\n",
    "import pickle\n",
    "#!pip3 install scikit-learn\n",
    "import sklearn as sk\n",
    "from sklearn.model_selection import KFold\n",
    "from sklearn.metrics import r2_score\n",
    "from scipy.stats import sem\n",
    "from scipy.stats import mannwhitneyu, wilcoxon\n",
    "import os\n",
    "from caveclient import CAVEclient\n",
    "import nglui\n",
    "#!pip install standard-transform\n",
    "from standard_transform import minnie_transform_vx"
   ]
  },
  {
   "cell_type": "code",
   "execution_count": 22,
   "metadata": {},
   "outputs": [
    {
     "name": "stdout",
     "output_type": "stream",
     "text": [
      "New Tokens need to be acquired by hand. Please follow the following steps:\n",
      "                1) Go to: https://global.daf-apis.com/auth/api/v1/create_token to create a new token.\n",
      "                2) Log in with your Google credentials and copy the token shown afterward.\n",
      "                3a) Save it to your computer with: client.auth.save_token(token=\"PASTE_YOUR_TOKEN_HERE\")\n",
      "                or\n",
      "                3b) Set it for the current session only with client.auth.token = \"PASTE_YOUR_TOKEN_HERE\"\n",
      "                Note: If you need to save or load multiple tokens, please read the documentation for details.\n",
      "                Warning! Creating a new token by finishing step 2 will invalidate the previous token!\n"
     ]
    }
   ],
   "source": [
    "client = CAVEclient()\n",
    "auth = client.auth\n",
    "auth.get_new_token()"
   ]
  },
  {
   "cell_type": "code",
   "execution_count": 25,
   "metadata": {},
   "outputs": [],
   "source": [
    "new_token = '451603479604d9d2fddf6d8a04322218' #This is the text you see after you visit the website.\n",
    "auth.save_token(token=new_token)"
   ]
  },
  {
   "attachments": {},
   "cell_type": "markdown",
   "metadata": {},
   "source": [
    "# Data Read In"
   ]
  },
  {
   "cell_type": "code",
   "execution_count": 44,
   "metadata": {},
   "outputs": [],
   "source": [
    "#Connect to CaveClient\n",
    "client = CAVEclient('minnie65_public_v343')"
   ]
  },
  {
   "cell_type": "code",
   "execution_count": 2,
   "metadata": {},
   "outputs": [],
   "source": [
    "#Read in the data\n",
    "connectome = pd.read_csv('../Data/functional_connectome_stcorr.csv')\n",
    "func_data = pd.read_pickle('../Data/funcneurons_features_versions/clean_functional_ccmax_ost.pkl')\n",
    "fits = pd.read_csv('../Data/orientation_fits.csv')\n",
    "fits = fits.rename(columns = {'cell_id':'unit_id'})"
   ]
  },
  {
   "attachments": {},
   "cell_type": "markdown",
   "metadata": {
    "jp-MarkdownHeadingCollapsed": true,
    "tags": []
   },
   "source": [
    "# Extracting layers of functional cells"
   ]
  },
  {
   "cell_type": "code",
   "execution_count": null,
   "metadata": {},
   "outputs": [],
   "source": [
    "#Define transform and import CAVE data\n",
    "tform_vx = minnie_transform_vx()\n",
    "func_data_cave=client.materialize.query_table('functional_coreg')"
   ]
  },
  {
   "cell_type": "code",
   "execution_count": null,
   "metadata": {},
   "outputs": [],
   "source": [
    "#Reassinge the pt_position to be a column with position arrays (saving the file had mutated it to strings)\n",
    "func_data_cave = func_data_cave.loc[:, ['pt_root_id', 'pt_position']]\n",
    "func_data_cave =func_data_cave.drop_duplicates(subset = 'pt_root_id').iloc[1:, :]\n",
    "func_complete = func_data.merge(func_data_cave, how = 'left', left_on='pt_root_id', right_on='pt_root_id', copy = False)"
   ]
  },
  {
   "cell_type": "code",
   "execution_count": null,
   "metadata": {},
   "outputs": [],
   "source": [
    "#Replace NaNs with the right value\n",
    "func_complete = func_complete.drop('pt_position_x', axis = 1)\n",
    "func_complete = func_complete.rename(columns = {'pt_position_y': 'pt_position'})\n",
    "pos = np.array([274864,94064,22046])\n",
    "func_complete.at[0,'pt_position'] = pos"
   ]
  },
  {
   "attachments": {},
   "cell_type": "markdown",
   "metadata": {},
   "source": [
    "Layer membership was classified by depth of imaged soma respect to the dura in the structural two-photon stack: L1: 0 − 98 μm; L2/3: 98 − 283 μm; L4: 283 − 371 μm; L5: 371 − 574 μm; L6: 574 − 713 μm 8Dinge et al. 2023)"
   ]
  },
  {
   "cell_type": "code",
   "execution_count": null,
   "metadata": {},
   "outputs": [],
   "source": [
    "#Apply the transform and save it in a new column\n",
    "func_complete['pial_distances'] = tform_vx.apply(func_complete['pt_position'])\n",
    "\n",
    "#Use the y axis value to assign the corresponding layer as per Ding et al. 2023\n",
    "layers = []\n",
    "for i in func_complete['pial_distances'].iloc[:]:\n",
    "    if 0<i[1]<=98:\n",
    "        layers.append('L1')\n",
    "    elif 98<i[1]<=283:\n",
    "        layers.append('L2/3')\n",
    "    elif 283<i[1]<=371:\n",
    "        layers.append('L4')\n",
    "    elif 371<i[1]<=574:\n",
    "        layers.append('L5')\n",
    "    elif 574<i[1]<=713:\n",
    "        layers.append('L6')\n",
    "\n",
    "func_complete['cortex_layer'] = layers    "
   ]
  },
  {
   "cell_type": "code",
   "execution_count": null,
   "metadata": {},
   "outputs": [],
   "source": [
    "#Save the data\n",
    "#func_complete.to_pickle('clean_functional_layers.pkl')"
   ]
  },
  {
   "cell_type": "code",
   "execution_count": 33,
   "metadata": {},
   "outputs": [],
   "source": [
    "func_complete = pd.read_pickle('../Data/clean_functional_layers.pkl')"
   ]
  },
  {
   "attachments": {},
   "cell_type": "markdown",
   "metadata": {
    "jp-MarkdownHeadingCollapsed": true,
    "tags": []
   },
   "source": [
    "# Generate the set of selective cells"
   ]
  },
  {
   "cell_type": "code",
   "execution_count": 34,
   "metadata": {},
   "outputs": [
    {
     "data": {
      "text/html": [
       "<div>\n",
       "<style scoped>\n",
       "    .dataframe tbody tr th:only-of-type {\n",
       "        vertical-align: middle;\n",
       "    }\n",
       "\n",
       "    .dataframe tbody tr th {\n",
       "        vertical-align: top;\n",
       "    }\n",
       "\n",
       "    .dataframe thead th {\n",
       "        text-align: right;\n",
       "    }\n",
       "</style>\n",
       "<table border=\"1\" class=\"dataframe\">\n",
       "  <thead>\n",
       "    <tr style=\"text-align: right;\">\n",
       "      <th></th>\n",
       "      <th>id</th>\n",
       "      <th>valid</th>\n",
       "      <th>pt_supervoxel_id</th>\n",
       "      <th>pt_root_id</th>\n",
       "      <th>session</th>\n",
       "      <th>scan_idx</th>\n",
       "      <th>unit_id</th>\n",
       "      <th>stack_x</th>\n",
       "      <th>stack_y</th>\n",
       "      <th>stack_z</th>\n",
       "      <th>...</th>\n",
       "      <th>pt_position</th>\n",
       "      <th>pial_distances</th>\n",
       "      <th>cortex_layer</th>\n",
       "      <th>pvalue</th>\n",
       "      <th>model_type</th>\n",
       "      <th>r_squared_diff</th>\n",
       "      <th>mean_r_sqrd</th>\n",
       "      <th>A</th>\n",
       "      <th>phi</th>\n",
       "      <th>k</th>\n",
       "    </tr>\n",
       "  </thead>\n",
       "  <tbody>\n",
       "    <tr>\n",
       "      <th>41</th>\n",
       "      <td>1497</td>\n",
       "      <td>t</td>\n",
       "      <td>87548682551482032</td>\n",
       "      <td>864691136084036460</td>\n",
       "      <td>7</td>\n",
       "      <td>3</td>\n",
       "      <td>2041</td>\n",
       "      <td>968.15</td>\n",
       "      <td>947.27</td>\n",
       "      <td>213.87</td>\n",
       "      <td>...</td>\n",
       "      <td>[165840, 135296, 18902]</td>\n",
       "      <td>[613.6684214429918, 200.26923279088533, 756.08...</td>\n",
       "      <td>L2/3</td>\n",
       "      <td>0.000044</td>\n",
       "      <td>double</td>\n",
       "      <td>0.839911</td>\n",
       "      <td>0.885874</td>\n",
       "      <td>3.208112</td>\n",
       "      <td>3.078375</td>\n",
       "      <td>1.005907</td>\n",
       "    </tr>\n",
       "    <tr>\n",
       "      <th>343</th>\n",
       "      <td>3748</td>\n",
       "      <td>t</td>\n",
       "      <td>96983798457163459</td>\n",
       "      <td>864691135968943205</td>\n",
       "      <td>7</td>\n",
       "      <td>3</td>\n",
       "      <td>6935</td>\n",
       "      <td>1118.37</td>\n",
       "      <td>685.57</td>\n",
       "      <td>421.25</td>\n",
       "      <td>...</td>\n",
       "      <td>[234432, 177728, 22099]</td>\n",
       "      <td>[872.1995984639533, 393.2641133347905, 883.960...</td>\n",
       "      <td>L5</td>\n",
       "      <td>0.000097</td>\n",
       "      <td>double</td>\n",
       "      <td>0.923305</td>\n",
       "      <td>0.937401</td>\n",
       "      <td>2.883878</td>\n",
       "      <td>3.218863</td>\n",
       "      <td>1.671461</td>\n",
       "    </tr>\n",
       "  </tbody>\n",
       "</table>\n",
       "<p>2 rows × 23 columns</p>\n",
       "</div>"
      ],
      "text/plain": [
       "       id valid   pt_supervoxel_id          pt_root_id  session  scan_idx  \\\n",
       "41   1497     t  87548682551482032  864691136084036460        7         3   \n",
       "343  3748     t  96983798457163459  864691135968943205        7         3   \n",
       "\n",
       "     unit_id  stack_x  stack_y  stack_z  ...              pt_position  \\\n",
       "41      2041   968.15   947.27   213.87  ...  [165840, 135296, 18902]   \n",
       "343     6935  1118.37   685.57   421.25  ...  [234432, 177728, 22099]   \n",
       "\n",
       "                                        pial_distances cortex_layer    pvalue  \\\n",
       "41   [613.6684214429918, 200.26923279088533, 756.08...         L2/3  0.000044   \n",
       "343  [872.1995984639533, 393.2641133347905, 883.960...           L5  0.000097   \n",
       "\n",
       "    model_type r_squared_diff  mean_r_sqrd         A       phi         k  \n",
       "41      double       0.839911     0.885874  3.208112  3.078375  1.005907  \n",
       "343     double       0.923305     0.937401  2.883878  3.218863  1.671461  \n",
       "\n",
       "[2 rows x 23 columns]"
      ]
     },
     "execution_count": 34,
     "metadata": {},
     "output_type": "execute_result"
    }
   ],
   "source": [
    "##### Merge orientation and functional datasets\n",
    "merged_fun = func_complete.merge(fits, on = ['scan_idx', 'session', 'unit_id'], how = 'right')\n",
    "\n",
    "#Select all cells that are selective\n",
    "good = merged_fun[merged_fun['pvalue']<0.05]\n",
    "\n",
    "#Select all cells that are significant according to both models\n",
    "grouped_res = good.groupby(['pt_root_id']).count().reset_index()\n",
    "double_sig = grouped_res[grouped_res['pvalue']>1]['pt_root_id'].values\n",
    "\n",
    "#Select only the double model of those with 'fringe case'\n",
    "double_fringe = good[(good['pt_root_id'].isin(double_sig)) & (good['r_squared_diff']>0.8) & (good['model_type'] == 'double')]\n",
    "\n",
    "#Select only single model in neurons where both models significant and not 'fringe'\n",
    "single_good = good[(good['pt_root_id'].isin(double_sig)) & (good['r_squared_diff']<0.8) & (good['model_type'] == 'single')]\n",
    "\n",
    "#Select all remaining neurons with significant models\n",
    "remaining_good = good[~good['pt_root_id'].isin(double_sig)]\n",
    "\n",
    "almost_good = pd.concat([double_fringe,single_good,remaining_good])\n",
    "\n",
    "#select all neurons from fringe case 2\n",
    "fringe2 = almost_good[(almost_good['r_squared_diff']<-0.5)&(almost_good['model_type'] == 'double') & (almost_good['pvalue'] <0.05)]['pt_root_id']\n",
    "\n",
    "all_good = almost_good[~almost_good['pt_root_id'].isin(fringe2)]\n",
    "all_good.head(2)"
   ]
  },
  {
   "attachments": {},
   "cell_type": "markdown",
   "metadata": {
    "jp-MarkdownHeadingCollapsed": true,
    "tags": []
   },
   "source": [
    "### Extract discretised maximum for each cell"
   ]
  },
  {
   "attachments": {},
   "cell_type": "markdown",
   "metadata": {},
   "source": [
    "(i.e. discretized maximum shown in stimuli closest to estimated maximum)"
   ]
  },
  {
   "cell_type": "code",
   "execution_count": null,
   "metadata": {},
   "outputs": [],
   "source": [
    "#Generate array with the directiosn shown in the stimuli\n",
    "trial_key = {'session': 4, 'scan_idx': 7}\n",
    "trial_info = nda.Trial & trial_key\n",
    "tid = (trial_info * nda.Monet2).fetch('trial_idx')[0]\n",
    "u_key = {'session': 4, 'scan_idx':7, 'trial_idx':tid}\n",
    "u_info = nda.Trial & u_key\n",
    "dirs = (u_info*nda.Monet2).fetch1('directions')[0]\n",
    "dirs_rad = dirs*(np.pi/180)"
   ]
  },
  {
   "cell_type": "code",
   "execution_count": 66,
   "metadata": {},
   "outputs": [],
   "source": [
    "#if DataJoint unavailable and wish to run visualisations in the \n",
    "# 'Connectivity profile of pre-synaptic neurons of a sample of neurons' section\n",
    "cur = pd.read_pickle('../Data/total_currents.pkl')\n",
    "dirs = np.array(list(set(cur['disc_max_post'])))\n",
    "dirs_rad = dirs*(np.pi/180)"
   ]
  },
  {
   "cell_type": "code",
   "execution_count": 67,
   "metadata": {},
   "outputs": [
    {
     "name": "stderr",
     "output_type": "stream",
     "text": [
      "/var/folders/h3/qq6d8krs4yb4t52bbzsx7kpw0000gn/T/ipykernel_20245/1460390797.py:6: SettingWithCopyWarning: \n",
      "A value is trying to be set on a copy of a slice from a DataFrame.\n",
      "Try using .loc[row_indexer,col_indexer] = value instead\n",
      "\n",
      "See the caveats in the documentation: https://pandas.pydata.org/pandas-docs/stable/user_guide/indexing.html#returning-a-view-versus-a-copy\n",
      "  all_good['closemax'] = closemax\n"
     ]
    }
   ],
   "source": [
    "#Add column with value from the shown directions that is closest to the maximum\n",
    "closemax = []\n",
    "for max_phi in all_good['phi'].iloc[:]:\n",
    "    diff_idx= np.argmin(np.abs((dirs_rad-max_phi)))\n",
    "    closemax.append(dirs_rad[diff_idx])\n",
    "all_good['closemax'] = closemax\n",
    "    "
   ]
  },
  {
   "cell_type": "code",
   "execution_count": null,
   "metadata": {},
   "outputs": [],
   "source": [
    "#Save it\n",
    "#all_good.to_pickle('selective_cells.pkl')"
   ]
  },
  {
   "cell_type": "code",
   "execution_count": 106,
   "metadata": {},
   "outputs": [
    {
     "data": {
      "image/png": "[encoded data removed]",
      "text/plain": [
       "<Figure size 640x480 with 1 Axes>"
      ]
     },
     "metadata": {},
     "output_type": "display_data"
    }
   ],
   "source": [
    "#Distribution across the datasets\n",
    "sel = pd.read_pickle('../Data/selective_cells.pkl')\n",
    "good_post = sel[(sel['brain_area'] == 'V1') &(sel['cortex_layer'] == 'L2/3')]\n",
    "funcm = len(set(connectome['post_pt_root_id']))\n",
    "selec = len(set(sel['pt_root_id']))\n",
    "selv1l23 = len(set(good_post['pt_root_id']))\n",
    "labels = ['clean functionally matched', 'selective cells', 'selective_v1_l23']\n",
    "values = [funcm, selec, selv1l23]\n",
    "color = ['green', 'yellow', 'orange']\n",
    "\n",
    "plt.bar(labels, values, color = color)\n",
    "plt.title('Cell numbers in different subsets of data')\n",
    "plt.text(-0.3,300, f'perc = {funcm/funcm}\\nabs = {funcm}', bbox = dict(facecolor='none', edgecolor='red'))\n",
    "plt.text(0.7,300, f'perc = {round(selec/funcm, 3)}\\nabs = {selec}', bbox = dict(facecolor='none', edgecolor='red'))\n",
    "plt.text(1.7,300, f'perc = {round(selv1l23/funcm,3)}\\nabs = {selv1l23}', bbox = dict(facecolor='none', edgecolor='red', pad = 0.5))\n",
    "plt.ylabel('count')\n",
    "plt.xticks(rotation = 20)\n",
    "plt.show()"
   ]
  },
  {
   "attachments": {},
   "cell_type": "markdown",
   "metadata": {
    "jp-MarkdownHeadingCollapsed": true,
    "tags": []
   },
   "source": [
    "# Utility functions"
   ]
  },
  {
   "cell_type": "code",
   "execution_count": null,
   "metadata": {},
   "outputs": [],
   "source": [
    "def orientation_extractor(unit_key, fpd):\n",
    "    ''' This function extracts a dataframe for the specified neuron with the mean activity across stimuli repeats\n",
    "    at each of the predefined 16 orientations shown in the Monet2 stimulus\n",
    "    \n",
    "    Parameters:\n",
    "    unit_key: datajoint style dictionary specifying the session, scan_idx and unit_idx of the selected neuron\n",
    "    fpd: number of frames per direction (some sessions+scan_idx pairs had different numbers\n",
    "    \n",
    "    Returns:\n",
    "    dataframe with three columns:\n",
    "    orinetations: dergee of orientation of teh stimuli\n",
    "    radian: conetnts of orientation column but in radians\n",
    "    mean_activity: mean activity of the neuron across repeats of the stimulus with the same orientation\n",
    "    '''\n",
    "    \n",
    "    #Select the movie trials in the appropiate session and scan\n",
    "    trial_key = {'session': unit_key['session'], 'scan_idx': unit_key['scan_idx']}\n",
    "    trial_info = nda.Trial & trial_key\n",
    "    \n",
    "    #Extract the direction variables for the Monet2 stimuli in these trials\n",
    "    dirs = (trial_info* nda.Monet2).fetch('directions')\n",
    "    spike_trace = (nda.Activity() & unit_key).fetch1('trace')\n",
    "\n",
    "    #Extract start and end frames\n",
    "    s = (trial_info * nda.Monet2).fetch('start_idx')\n",
    "    e = (trial_info * nda.Monet2).fetch('end_idx')\n",
    "    \n",
    "    #Loop thorugh them and calculate average activity and corresponding direction\n",
    "    directions=[]\n",
    "    m_act = []\n",
    "    d = 0\n",
    "\n",
    "    #loop though each monet trial\n",
    "    for seg in range(len(s)):\n",
    "        st = s[seg]\n",
    "        en = e[seg]\n",
    "        c = 0\n",
    "\n",
    "        #extract the relevant spike trace segment\n",
    "        sp_red = spike_trace[st:en+1]\n",
    "        #loop though each six frames with same orientation\n",
    "        if fpd>6: #change number of frame that have the same direction since session 9 had a higher frame rate of 8\n",
    "            for i in range(0, sp_red.shape[0], fpd):\n",
    "                if c < 16:\n",
    "                    directions.append(dirs[d][0][c]) #d: monet trial number, 0: selects array, c: orientation index\n",
    "                    m_act.append(np.mean(sp_red[i:i+fpd]))\n",
    "                else:\n",
    "                    continue\n",
    "                    #directions.append(dirs[d][0][c])\n",
    "                    #m_act.append(np.mean(sp_red[i:]))\n",
    "                c+=1\n",
    "        else:    \n",
    "            for i in range(0, sp_red.shape[0], 6):\n",
    "                if c < 16:\n",
    "                    directions.append(dirs[d][0][c]) #d: monet trial number, 0: selects array, c: orientation index\n",
    "                    m_act.append(np.mean(sp_red[i:i+6]))\n",
    "                else:\n",
    "                    directions.append(dirs[d][0][c])\n",
    "                    m_act.append(np.mean(sp_red[i:]))\n",
    "                c+=1\n",
    "        d+=1\n",
    "    #Save them in a data frame  \n",
    "    df = pd.DataFrame({'orientation':directions, 'mean_activity':m_act})\n",
    "    \n",
    "    #Turn orientation in to radians\n",
    "    df['radians'] = df['orientation']*(np.pi/180)\n",
    "    \n",
    "    return df"
   ]
  },
  {
   "attachments": {},
   "cell_type": "markdown",
   "metadata": {
    "jp-MarkdownHeadingCollapsed": true,
    "tags": []
   },
   "source": [
    "# Connectivity profile of pre-synaptic neurons of a sample of neurons"
   ]
  },
  {
   "cell_type": "code",
   "execution_count": 45,
   "metadata": {},
   "outputs": [
    {
     "data": {
      "application/vnd.jupyter.widget-view+json": {
       "model_id": "b46116579b424cbcb422bedc650120f1",
       "version_major": 2,
       "version_minor": 0
      },
      "text/plain": [
       "  0%|          | 0/100 [00:00<?, ?it/s]"
      ]
     },
     "metadata": {},
     "output_type": "display_data"
    },
    {
     "data": {
      "text/plain": [
       "864691135491623263"
      ]
     },
     "execution_count": 45,
     "metadata": {},
     "output_type": "execute_result"
    }
   ],
   "source": [
    "#Visualise disrtributions of n of connections, n of connections from functionally matched neurons\n",
    "#and n of connectiosn from functionally matched neurons that are selective in a random sample of 100 neurons\n",
    "\n",
    "np.random.seed(4)\n",
    "\n",
    "sample = np.random.choice(func_data['pt_root_id'], 100)\n",
    "#Initialise containers\n",
    "n_connections = []\n",
    "n_funcmatch = []\n",
    "n_selective = []\n",
    " \n",
    "\n",
    "for root_id in tqdm(sample):\n",
    "    #extract nn of presynaptic connections\n",
    "    syn = len(set(client.materialize.synapse_query(post_ids=root_id)['pre_pt_root_id']))\n",
    "    \n",
    "    #extract functionally matched connections\n",
    "    pre_set = set(connectome[connectome['post_pt_root_id'] == root_id]['pre_pt_root_id'])\n",
    "    \n",
    "    #extract functionally matched tuned connections\n",
    "    good_and_selective = set(all_good['pt_root_id']).intersection(pre_set)\n",
    "    \n",
    "    #save them\n",
    "    n_connections.append(syn)\n",
    "    n_funcmatch.append(len(pre_set))\n",
    "    n_selective.append(len(good_and_selective))\n",
    "\n",
    "#generate a dictionary with cell id and number of selective connections, then sort it\n",
    "cdict = {v:k for k, v in zip(sample, n_selective)}\n",
    "st = sorted(cdict, reverse=True)\n",
    "cdict[st[0]]"
   ]
  },
  {
   "cell_type": "code",
   "execution_count": 46,
   "metadata": {},
   "outputs": [
    {
     "data": {
      "image/png": "[encoded data removed]",
      "text/plain": [
       "<Figure size 640x480 with 1 Axes>"
      ]
     },
     "metadata": {},
     "output_type": "display_data"
    }
   ],
   "source": [
    "#Distribution of overall connection numbers\n",
    "plt.hist(n_connections, color = 'red')\n",
    "\n",
    "#adding the mean\n",
    "mean = np.mean(n_connections)\n",
    "plt.axvline(mean, color = 'black', linestyle = '--', label = round(mean, 2))\n",
    "plt.ylabel('Count')\n",
    "plt.xlabel('Connection number')\n",
    "plt.title('Distrubution of TOTAL pre-synaptic connection numbers')\n",
    "plt.legend(title = 'Mean')\n",
    "plt.show()"
   ]
  },
  {
   "cell_type": "code",
   "execution_count": 47,
   "metadata": {},
   "outputs": [
    {
     "data": {
      "image/png": "[encoded data removed]",
      "text/plain": [
       "<Figure size 640x480 with 1 Axes>"
      ]
     },
     "metadata": {},
     "output_type": "display_data"
    }
   ],
   "source": [
    "#Distribution of connection numbers from functionally matched cells\n",
    "plt.hist(n_funcmatch, color = 'gold')\n",
    "\n",
    "#adding the mean\n",
    "mean = np.mean(n_funcmatch)\n",
    "plt.axvline(mean, color = 'black', linestyle = '--', label = round(mean, 2))\n",
    "plt.ylabel('Count')\n",
    "plt.xlabel('Connection number')\n",
    "plt.title('Distrubution of FUNCTIONAL pre-synaptic connection numbers')\n",
    "plt.legend(title = 'Mean')\n",
    "plt.show()"
   ]
  },
  {
   "cell_type": "code",
   "execution_count": 48,
   "metadata": {},
   "outputs": [
    {
     "data": {
      "image/png": "[encoded data removed]",
      "text/plain": [
       "<Figure size 640x480 with 1 Axes>"
      ]
     },
     "metadata": {},
     "output_type": "display_data"
    }
   ],
   "source": [
    "#Distribution of connection numbers from selective pre synaptic neurons\n",
    "plt.hist(n_selective, color = 'green')\n",
    "\n",
    "#adding the mean\n",
    "mean = np.mean(n_selective)\n",
    "plt.axvline(mean, color = 'black', linestyle = '--', label = round(mean, 2))\n",
    "plt.ylabel('Count')\n",
    "plt.xlabel('Connection number')\n",
    "plt.title('Distrubution of of SELECTIVE pre-synaptic connection numbers')\n",
    "plt.legend(title = 'Mean')\n",
    "plt.show()"
   ]
  },
  {
   "cell_type": "code",
   "execution_count": 49,
   "metadata": {},
   "outputs": [
    {
     "data": {
      "image/png": "[encoded data removed]",
      "text/plain": [
       "<Figure size 640x480 with 1 Axes>"
      ]
     },
     "metadata": {},
     "output_type": "display_data"
    }
   ],
   "source": [
    "#Distrubution of proportion of FUNCTIONALLY matched inputs out of total innputs to a neuron\n",
    "\n",
    "#Calculate the proportion of functionally matched inputs out of total input for each neuron in sample\n",
    "diffs = np.array(n_funcmatch)/np.array(n_connections)\n",
    "#Mean proportion\n",
    "mean = np.mean(np.array(n_connections)-np.array(n_funcmatch))\n",
    "\n",
    "#Plot it\n",
    "plt.hist(diffs, bins = 100, color = 'lightblue')\n",
    "plt.axvline(meanp, color = 'black', linestyle = '--', label = f'abs: {round(mean, 2)}, prop: {round(meanp, 2)}')\n",
    "plt.ylabel('Count')\n",
    "plt.xlabel('Connection proportion')\n",
    "plt.title('Distrubution of input diffs: total vs FUNCTIONAL')\n",
    "plt.legend(title = 'Mean')\n",
    "plt.show()"
   ]
  },
  {
   "cell_type": "code",
   "execution_count": 50,
   "metadata": {},
   "outputs": [
    {
     "data": {
      "image/png": "[encoded data removed]",
      "text/plain": [
       "<Figure size 640x480 with 1 Axes>"
      ]
     },
     "metadata": {},
     "output_type": "display_data"
    }
   ],
   "source": [
    "# Distrubution of proportion of SELECTIVE inputs out of total innputs to a neuron\n",
    "\n",
    "#Calculate the proportion of selective inputs out of total input for each neuron in sample\n",
    "diffs = np.array(n_selective)/np.array(n_connections)\n",
    "#Mean proportion\n",
    "mean = np.mean(np.array(n_connections)-np.array(n_selective))\n",
    "\n",
    "#Plot it\n",
    "plt.hist(diffs, bins = 100, color = 'lightgreen')\n",
    "plt.axvline(meanp, color = 'black', linestyle = '--', label = f'prop: {round(meanp, 4)}')\n",
    "plt.ylabel('Count')\n",
    "plt.xlabel('Connection proportion')\n",
    "plt.title('Distrubution of proportion of SELECTIVE inputs out of total innputs to a neuron')\n",
    "plt.legend(title = 'Mean')\n",
    "plt.show()"
   ]
  },
  {
   "attachments": {},
   "cell_type": "markdown",
   "metadata": {},
   "source": [
    "# Single neuron test of subset L2/3 and angles\n",
    "In these test we subest the plots of the currents by the layer the neuron belongs to and by the discretised preferred maximum orientation they display.\n",
    "\n",
    "NOTE: the preferred orientation of neurons has been 'discretised', meaning that we set tehir preferred orientation as the closest angle to the 16 shown in the Monet2 trials that their preferred orientation estimated in *orienttation_extraction.ipynb* comes closest to."
   ]
  },
  {
   "attachments": {},
   "cell_type": "markdown",
   "metadata": {},
   "source": [
    "New fringe case discovered:\n",
    "In some cells the orientation (double peak model) fits very poorly, placing a maximum in an area where there should not be one and thus is discretized wrongly, causing the summation for that discretized angle to show a peak in the worng point(example in presynaptic cells of post synaptic cell with id: 864691136334171571 but now fixed by 'fringe2' variable in 'Generate set of selective cells' section)"
   ]
  },
  {
   "cell_type": "code",
   "execution_count": 327,
   "metadata": {},
   "outputs": [],
   "source": [
    "# Select all the POST_synaptic neurons that are from V1 and layer 2/3\n",
    "good_post = all_good[(all_good['brain_area'] == 'V1') &(all_good['cortex_layer'] == 'L2/3')]\n",
    "\n",
    "# Select all the PRE_synaptic neurons that are from V1 and layers 2/3/4\n",
    "good_v1 = all_good[all_good['brain_area'] == 'V1']\n",
    "good_layers = good_v1[(good_v1['cortex_layer'] == 'L2/3') | (good_v1['cortex_layer'] == 'L4')]"
   ]
  },
  {
   "cell_type": "code",
   "execution_count": 94,
   "metadata": {},
   "outputs": [
    {
     "ename": "NameError",
     "evalue": "name 'good_post' is not defined",
     "output_type": "error",
     "traceback": [
      "\u001b[0;31m---------------------------------------------------------------------------\u001b[0m",
      "\u001b[0;31mNameError\u001b[0m                                 Traceback (most recent call last)",
      "Cell \u001b[0;32mIn[94], line 1\u001b[0m\n\u001b[0;32m----> 1\u001b[0m good_post\u001b[39m.\u001b[39mshape\n",
      "\u001b[0;31mNameError\u001b[0m: name 'good_post' is not defined"
     ]
    }
   ],
   "source": [
    "good_post.shape"
   ]
  },
  {
   "cell_type": "code",
   "execution_count": null,
   "metadata": {},
   "outputs": [],
   "source": [
    "#Generate a dictionary to select those neurons that have a lot of presynpatic connections\n",
    "l = []\n",
    "#iterate trhough good post synpatic cells\n",
    "for i in tqdm(good_post['pt_root_id'].iloc[:]):\n",
    "    #select all its connections\n",
    "    pre_set = set(connectome[connectome['post_pt_root_id'] == i]['pre_pt_root_id'])\n",
    "    #select only the ones in teh layers we want\n",
    "    good_and_selective = set(good_layers['pt_root_id']).intersection(pre_set)\n",
    "    #append how many there are\n",
    "    l.append(len(good_and_selective))\n",
    "    \n",
    "#generate a dictionary and sort it  \n",
    "lengths_andids = {k:v for k, v in zip(good_post['pt_root_id'].iloc[:], l)}\n",
    "sort_lids = sorted(lengths_andids.items(), key=lambda x:x[1], reverse = True)\n"
   ]
  },
  {
   "cell_type": "code",
   "execution_count": null,
   "metadata": {},
   "outputs": [],
   "source": [
    "#Visualise the first few ones\n",
    "sort_lids[:10]"
   ]
  },
  {
   "cell_type": "code",
   "execution_count": null,
   "metadata": {},
   "outputs": [],
   "source": [
    "#Select the cell you wish to examine\n",
    "post_root_id = 864691136334171571\n",
    "\n",
    "#Find all the pre-synpatic neuron that connect into it, are selective and are from V1, layers 2/3/4\n",
    "pre_set = set(connectome[connectome['post_pt_root_id'] == post_root_id]['pre_pt_root_id'])\n",
    "good_and_selective = set(good_layers['pt_root_id']).intersection(pre_set)"
   ]
  },
  {
   "cell_type": "code",
   "execution_count": null,
   "metadata": {},
   "outputs": [],
   "source": [
    "phi_diffs = []\n",
    "connection_strength = []\n",
    "actJ = defaultdict(lambda: defaultdict(list))\n",
    "act_no_w = defaultdict(lambda: defaultdict(list))\n",
    "\n",
    "for neuron_id in tqdm(good_and_selective):\n",
    "    #Find the pre synaptic preferred orientation\n",
    "    pre_max = all_good[all_good['pt_root_id'] == neuron_id]['phi'].iloc[0]\n",
    "    \n",
    "    #Find the pre synaptic DISCRETIZED preferred orientation\n",
    "    closepre_max = all_good[all_good['pt_root_id'] == neuron_id]['closemax'].iloc[0]\n",
    "    \n",
    "    #presynaptic layer\n",
    "    pre_layer = all_good[all_good['pt_root_id'] == neuron_id]['cortex_layer'].iloc[0]\n",
    "            \n",
    "    #Find difference in orientation and save it\n",
    "    #orientation_diff = np.abs(post_max-pre_max)\n",
    "    #phi_diffs.append(orientation_diff)\n",
    "            \n",
    "    #find the connection strength (size of synapse as proxy)\n",
    "    size = connectome[(connectome['pre_pt_root_id'] == neuron_id) & (connectome['post_pt_root_id'] == post_root_id)]['size'].values\n",
    "    syn_strength = np.sum(size)\n",
    "    connection_strength.append(syn_strength)\n",
    "            \n",
    "    #Generate unit key for the pre synpatic neuron\n",
    "    ssu= func_data[func_data['pt_root_id'] == neuron_id][['session', 'scan_idx', 'unit_id']].values\n",
    "    unit_key = {'session': ssu[0][0], 'scan_idx': ssu[0][1], 'unit_id': ssu[0][2]}  \n",
    "    \n",
    "    #Extract its activity and corresponding radian values\n",
    "    if unit_key['session'] !=9:\n",
    "        df = orientation_extractor(unit_key, 6)\n",
    "    else:\n",
    "        df = orientation_extractor(unit_key, 8)\n",
    "    \n",
    "    #Group by the radian to get the average neuron activity at that radian value\n",
    "    gp = df.groupby('radians').mean().reset_index()\n",
    "    \n",
    "    #Save the orientations and the presynaptic activity times its connetcion strength\n",
    "    #radians+= list(gp['radians']) #Subtract by post_max to centre preferred orientation at 0\n",
    "    actJ[pre_layer][closepre_max].append(list(gp['mean_activity']*syn_strength))\n",
    "    act_no_w[pre_layer][closepre_max].append(list(gp['mean_activity']))\n",
    "        \n"
   ]
  },
  {
   "cell_type": "code",
   "execution_count": null,
   "metadata": {},
   "outputs": [],
   "source": [
    "#Select the layer of origin of the pre-synpatic cells\n",
    "layer = 'L2/3'\n",
    "\n",
    "#Visulaise how many pre synpatic cells there are for each of the discretised orientations\n",
    "for i in actJ[layer].keys():\n",
    "    print(i, len(actJ[layer][i]))\n",
    "    \n",
    "print(f'number of orientations available: {len(actJ[layer].keys())}')"
   ]
  },
  {
   "cell_type": "code",
   "execution_count": null,
   "metadata": {},
   "outputs": [],
   "source": [
    "#Generate a plot to visualise the sum of teh currents of pre-synaptic neurons with teh same preferred\n",
    "#orientation for the selected post synaptic neuron they have been extracted for\n",
    "fig, axes = plt.subplots(3, 5, figsize = (30,15))\n",
    "\n",
    "for ax, rad in zip(axes.ravel(),actJ[layer].keys()) :\n",
    "    ax.plot(sorted(dirs_rad), np.sum(np.array(actJ[layer][rad]), axis = 0), label = 'summed activity')\n",
    "    ax.axvline(rad, color = 'red', label= 'disc maximum')\n",
    "    if rad>np.pi:\n",
    "        ax.axvline(rad-np.pi, color = 'orange', label= 'disc maximum-pi')\n",
    "    else:\n",
    "        ax.axvline(rad+np.pi, color = 'orange', label= 'disc maximum+pi')\n",
    "    ax.set_xlabel('direction')\n",
    "    ax.set_ylabel('current')\n",
    "    ax.set_title(f'Pref orientation: {round(rad,2)}, n pre_neurons: {len(actJ[layer][rad])}')\n",
    "    \n",
    "plt.suptitle('Sum of CURRENT of pre-synpatic neurons grouped by preferred orientation', fontsize = 30)\n",
    "plt.legend()\n",
    "plt.show()"
   ]
  },
  {
   "cell_type": "code",
   "execution_count": null,
   "metadata": {},
   "outputs": [],
   "source": [
    "#Plot of the sum of pre synaptic currents for a single specified preferred orientation\n",
    "max_act = 3.5342917352885173\n",
    "plt.plot(sorted(dirs_rad), np.sum(np.array(actJ[layer][max_act]), axis = 0), label = 'summed activity')\n",
    "plt.axvline(max_act, color = 'red', label= 'disc maximum')\n",
    "plt.axvline(max_act-np.pi, color = 'orange', label= 'disc maximum-pi')\n",
    "plt.legend()\n",
    "plt.show()"
   ]
  },
  {
   "cell_type": "code",
   "execution_count": null,
   "metadata": {},
   "outputs": [],
   "source": [
    "#Generate a plot to visualise the sum of the ACTIVITIES (no multiplication with synaptic strength) of pre-synaptic neurons with teh same preferred\n",
    "#orientation for the selected post synaptic neuron they have been extracted for\n",
    "\n",
    "fig, axes = plt.subplots(3, 5, figsize = (30,15))\n",
    "\n",
    "for ax, rad in zip(axes.ravel(),act_no_w[layer].keys()) :\n",
    "    ax.plot(sorted(dirs_rad), np.sum(np.array(act_no_w[layer][rad]), axis = 0), label = 'summed activity')\n",
    "    ax.axvline(rad, color = 'red', label= 'disc maximum')\n",
    "    if rad>np.pi:\n",
    "        ax.axvline(rad-np.pi, color = 'orange', label= 'disc maximum-pi')\n",
    "    else:\n",
    "        ax.axvline(rad+np.pi, color = 'orange', label= 'disc maximum+pi')\n",
    "    ax.set_xlabel('direction')\n",
    "    ax.set_ylabel('current')\n",
    "    ax.set_title(f'Pref orientation: {round(rad,2)}, n pre_neurons: {len(act_no_w[layer][rad])}')\n",
    "plt.suptitle('Sum of ACTIVITY of pre-synpatic neurons grouped by preferred orientation', fontsize = 30)\n",
    "plt.legend()\n",
    "plt.show()"
   ]
  },
  {
   "attachments": {},
   "cell_type": "markdown",
   "metadata": {
    "jp-MarkdownHeadingCollapsed": true,
    "tags": []
   },
   "source": [
    "# Iterate through cells to extract current data"
   ]
  },
  {
   "attachments": {},
   "cell_type": "markdown",
   "metadata": {},
   "source": [
    "NOTE: also here we extract a 'discretised' preferred orientation for each neuron"
   ]
  },
  {
   "cell_type": "code",
   "execution_count": null,
   "metadata": {},
   "outputs": [],
   "source": [
    "#Extracting the data of the selective pre synaptic cells in layer 2/3/4 of V1\n",
    "#for the selective post synaptic cells in layers 2/3 of V1\n",
    "\n",
    "for postcell in tqdm(good_post['pt_root_id'].tolist()[500:]):\n",
    "    \n",
    "    #Find all the pre-synpatic neuron that connect into it, are selective and are from V1, layers 2/3/4\n",
    "    pre_set = set(connectome[connectome['post_pt_root_id'] == post_root_id]['pre_pt_root_id'])\n",
    "    good_and_selective = set(good_layers['pt_root_id']).intersection(pre_set)\n",
    "    \n",
    "    #Find real max and discretized max of the postsynaptic cell\n",
    "    post_max = all_good[all_good['pt_root_id'] == postcell]['phi'].iloc[0]\n",
    "    \n",
    "    #DISCRETIZED preferred orientation\n",
    "    closepost_max = all_good[all_good['pt_root_id'] == postcell]['closemax'].iloc[0]\n",
    "    \n",
    "    #Containers with saved data\n",
    "    data = []\n",
    "        \n",
    "    #columns\n",
    "    columns = ['post_id', 'pre_id','pre_layer', 'activity', 'connection_strength', 'disc_max_post', 'disc_max_pre', 'max_post', 'max_pre']\n",
    "    \n",
    "    for neuron_id in good_and_selective:\n",
    "        #Find the pre synaptic preferred orientation\n",
    "        pre_max = all_good[all_good['pt_root_id'] == neuron_id]['phi'].iloc[0]\n",
    "    \n",
    "        #Find the pre synaptic DISCRETIZED preferred orientation\n",
    "        closepre_max = all_good[all_good['pt_root_id'] == neuron_id]['closemax'].iloc[0]\n",
    "    \n",
    "        #presynaptic layer\n",
    "        pre_layer = all_good[all_good['pt_root_id'] == neuron_id]['cortex_layer'].iloc[0]\n",
    "            \n",
    "            \n",
    "        #find the connection strength (size of synapse as proxy)\n",
    "        size = connectome[(connectome['pre_pt_root_id'] == neuron_id) & (connectome['post_pt_root_id'] == post_root_id)]['size'].values\n",
    "        syn_strength = np.sum(size)\n",
    "            \n",
    "        #Generate unit key for the pre synpatic neuron\n",
    "        ssu= func_data[func_data['pt_root_id'] == neuron_id][['session', 'scan_idx', 'unit_id']].values\n",
    "        unit_key = {'session': ssu[0][0], 'scan_idx': ssu[0][1], 'unit_id': ssu[0][2]}  \n",
    "    \n",
    "        #Extract its activity and corresponding radian values\n",
    "        if unit_key['session'] !=9:\n",
    "            df = orientation_extractor(unit_key, 6)\n",
    "        else:\n",
    "            df = orientation_extractor(unit_key, 8)\n",
    "    \n",
    "        #Group by the radian to get the average neuron activity at that radian value\n",
    "        gp = df.groupby('radians').mean().reset_index()\n",
    "    \n",
    "        #Save the orientations and the presynaptic activity times its connection strength\n",
    "        #radians+= list(gp['radians']) #Subtract by post_max to centre preferred orientation at 0\n",
    "        activity = np.array(gp['mean_activity']*syn_strength)\n",
    "    \n",
    "        #Save the data\n",
    "        data.append([postcell, neuron_id,pre_layer, activity, syn_strength, closepost_max, closepre_max, post_max, pre_max])\n",
    "        \n",
    "    #Save the data\n",
    "    data_df = pd.DataFrame(data, columns = columns)\n",
    "    data_df.to_pickle(f'currents2/currents_{postcell}.pkl')\n",
    "\n",
    "    #Clean RAM\n",
    "    del data, data_df, pre_set, good_and_selective, post_max, closepost_max\n",
    "    gc.collect()   "
   ]
  },
  {
   "cell_type": "code",
   "execution_count": 91,
   "metadata": {},
   "outputs": [
    {
     "data": {
      "application/vnd.jupyter.widget-view+json": {
       "model_id": "2c3473d730fb4635814db15e9087dd45",
       "version_major": 2,
       "version_minor": 0
      },
      "text/plain": [
       "  0%|          | 0/1318 [00:00<?, ?it/s]"
      ]
     },
     "metadata": {},
     "output_type": "display_data"
    }
   ],
   "source": [
    "#Join all files together\n",
    "cur = pd.read_pickle(f\"../Data/currents/{os.listdir('../Data/currents')[0]}\")\n",
    "\n",
    "for file in tqdm(os.listdir('../Data/currents')[1:]):\n",
    "    if file!='.DS_Store':\n",
    "        cur_df = pd.read_pickle(f'../Data/currents/{file}')\n",
    "        cur = pd.concat([cur, cur_df], axis = 0)\n",
    "    else:\n",
    "        continue    "
   ]
  },
  {
   "cell_type": "code",
   "execution_count": 9,
   "metadata": {},
   "outputs": [],
   "source": [
    "#Adding a column with the activity weighted by the total connection strength\n",
    "cur['weighted_activity'] = cur['activity']*cur['connection_strength']"
   ]
  },
  {
   "cell_type": "code",
   "execution_count": 7,
   "metadata": {},
   "outputs": [
    {
     "data": {
      "text/html": [
       "<div>\n",
       "<style scoped>\n",
       "    .dataframe tbody tr th:only-of-type {\n",
       "        vertical-align: middle;\n",
       "    }\n",
       "\n",
       "    .dataframe tbody tr th {\n",
       "        vertical-align: top;\n",
       "    }\n",
       "\n",
       "    .dataframe thead th {\n",
       "        text-align: right;\n",
       "    }\n",
       "</style>\n",
       "<table border=\"1\" class=\"dataframe\">\n",
       "  <thead>\n",
       "    <tr style=\"text-align: right;\">\n",
       "      <th></th>\n",
       "      <th>post_id</th>\n",
       "      <th>pre_id</th>\n",
       "      <th>pre_layer</th>\n",
       "      <th>activity</th>\n",
       "      <th>connection_strength</th>\n",
       "      <th>disc_max_post</th>\n",
       "      <th>disc_max_pre</th>\n",
       "      <th>max_post</th>\n",
       "      <th>max_pre</th>\n",
       "      <th>weighted_activity</th>\n",
       "    </tr>\n",
       "  </thead>\n",
       "  <tbody>\n",
       "    <tr>\n",
       "      <th>0</th>\n",
       "      <td>864691135761539894</td>\n",
       "      <td>864691135776893024</td>\n",
       "      <td>L2/3</td>\n",
       "      <td>[24938.3, 38717.082, 15728.137, 9573.562, 4211...</td>\n",
       "      <td>26072</td>\n",
       "      <td>3.141593</td>\n",
       "      <td>3.141593</td>\n",
       "      <td>3.07924</td>\n",
       "      <td>2.960947</td>\n",
       "      <td>[650191360.0, 1009431740.0, 410063970.0, 24960...</td>\n",
       "    </tr>\n",
       "    <tr>\n",
       "      <th>1</th>\n",
       "      <td>864691135761539894</td>\n",
       "      <td>864691135699486754</td>\n",
       "      <td>L4</td>\n",
       "      <td>[14321.46, 9121.021, 6461.368, 3822.6418, 3672...</td>\n",
       "      <td>5636</td>\n",
       "      <td>3.141593</td>\n",
       "      <td>3.141593</td>\n",
       "      <td>3.07924</td>\n",
       "      <td>3.013437</td>\n",
       "      <td>[80715750.0, 51406076.0, 36416270.0, 21544410....</td>\n",
       "    </tr>\n",
       "  </tbody>\n",
       "</table>\n",
       "</div>"
      ],
      "text/plain": [
       "              post_id              pre_id pre_layer  \\\n",
       "0  864691135761539894  864691135776893024      L2/3   \n",
       "1  864691135761539894  864691135699486754        L4   \n",
       "\n",
       "                                            activity connection_strength  \\\n",
       "0  [24938.3, 38717.082, 15728.137, 9573.562, 4211...               26072   \n",
       "1  [14321.46, 9121.021, 6461.368, 3822.6418, 3672...                5636   \n",
       "\n",
       "   disc_max_post  disc_max_pre  max_post   max_pre  \\\n",
       "0       3.141593      3.141593   3.07924  2.960947   \n",
       "1       3.141593      3.141593   3.07924  3.013437   \n",
       "\n",
       "                                   weighted_activity  \n",
       "0  [650191360.0, 1009431740.0, 410063970.0, 24960...  \n",
       "1  [80715750.0, 51406076.0, 36416270.0, 21544410....  "
      ]
     },
     "execution_count": 7,
     "metadata": {},
     "output_type": "execute_result"
    }
   ],
   "source": [
    "cur.head(2)"
   ]
  },
  {
   "cell_type": "code",
   "execution_count": 8,
   "metadata": {},
   "outputs": [],
   "source": [
    "#Save the data\n",
    "#cur.to_pickle('total_currents.pkl')"
   ]
  },
  {
   "cell_type": "code",
   "execution_count": 3,
   "metadata": {},
   "outputs": [],
   "source": [
    "c = pd.read_pickle('../Data/total_currents.pkl')"
   ]
  },
  {
   "cell_type": "code",
   "execution_count": 6,
   "metadata": {},
   "outputs": [
    {
     "name": "stdout",
     "output_type": "stream",
     "text": [
      "Number of unique postsynpatic cell: 1290\n"
     ]
    }
   ],
   "source": [
    "print(f\"Number of unique postsynpatic cell: {len(set(c['post_id']))}\")"
   ]
  }
 ],
 "metadata": {
  "kernelspec": {
   "display_name": "Python 3 (ipykernel)",
   "language": "python",
   "name": "python3"
  },
  "language_info": {
   "codemirror_mode": {
    "name": "ipython",
    "version": 3
   },
   "file_extension": ".py",
   "mimetype": "text/x-python",
   "name": "python",
   "nbconvert_exporter": "python",
   "pygments_lexer": "ipython3",
   "version": "3.10.8"
  }
 },
 "nbformat": 4,
 "nbformat_minor": 4
}
